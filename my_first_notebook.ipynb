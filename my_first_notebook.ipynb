{
 "cells": [
  {
   "cell_type": "markdown",
   "metadata": {},
   "source": [
    "# My first jupyter notebook\n",
    "- hooray for my first notebook! \n",
    "- shift enter will run a cell and select the next one\n",
    "- command shift will run the cell without selecting the next one\n",
    "- option click and drag will make multiple cursors\n",
    "- using `jupyter notebook` in the terminal will open jupyter notebook. if a file name is entered after it will either open that file, if it exisists. "
   ]
  },
  {
   "cell_type": "code",
   "execution_count": 1,
   "metadata": {},
   "outputs": [
    {
     "name": "stdout",
     "output_type": "stream",
     "text": [
      "spam spam spam \n"
     ]
    }
   ],
   "source": [
    "print(\"spam \" *3)"
   ]
  },
  {
   "cell_type": "code",
   "execution_count": 2,
   "metadata": {},
   "outputs": [
    {
     "name": "stdout",
     "output_type": "stream",
     "text": [
      "What is your favorite color?: red\n",
      "red hmmmmmm nope that's wrong\n"
     ]
    }
   ],
   "source": [
    "favorite_color = input(\"What is your favorite color?: \")\n",
    "print(favorite_color, \"hmmmmmm nope that's wrong\")"
   ]
  },
  {
   "cell_type": "code",
   "execution_count": 4,
   "metadata": {},
   "outputs": [
    {
     "name": "stdout",
     "output_type": "stream",
     "text": [
      "What is your favorite color?: red\n",
      "You may pass.\n"
     ]
    }
   ],
   "source": [
    "correct_color = (\"red\")\n",
    "favorite_color = input(\"What is your favorite color?: \")\n",
    "if correct_color == favorite_color:\n",
    "    print(\"You may pass.\")\n",
    "else:\n",
    "    print(\"nope! wrong! goodbye!\")"
   ]
  },
  {
   "cell_type": "code",
   "execution_count": null,
   "metadata": {},
   "outputs": [],
   "source": []
  }
 ],
 "metadata": {
  "kernelspec": {
   "display_name": "Python 3",
   "language": "python",
   "name": "python3"
  },
  "language_info": {
   "codemirror_mode": {
    "name": "ipython",
    "version": 3
   },
   "file_extension": ".py",
   "mimetype": "text/x-python",
   "name": "python",
   "nbconvert_exporter": "python",
   "pygments_lexer": "ipython3",
   "version": "3.8.5"
  }
 },
 "nbformat": 4,
 "nbformat_minor": 4
}
