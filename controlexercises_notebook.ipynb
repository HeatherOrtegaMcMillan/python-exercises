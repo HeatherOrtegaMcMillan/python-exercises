{
 "cells": [
  {
   "cell_type": "markdown",
   "metadata": {},
   "source": [
    "# Conditional Basics\n",
    "\n",
    "a. prompt the user for a day of the week, print out whether the day is Monday or not\n",
    "\n",
    "b. prompt the user for a day of the week, print out whether the day is a weekday or a weekend\n",
    "\n",
    "c. create variables and make up values for\n",
    "\n",
    " - the number of hours worked in one week\n",
    " - the hourly rate\n",
    " - how much the week's paycheck will be\n",
    " \n",
    "write the python code that calculates the weekly paycheck. You get paid time and a half if you work more than 40 hours\n",
    "\n",
    "\n"
   ]
  },
  {
   "cell_type": "code",
   "execution_count": 12,
   "metadata": {},
   "outputs": [
    {
     "name": "stdout",
     "output_type": "stream",
     "text": [
      "What day is it today? saturday\n",
      "it's the freakin weekend baby!\n"
     ]
    }
   ],
   "source": [
    "today = input('What day is it today? ')\n",
    "if today.lower() == 'monday':\n",
    "    print('it\\'s Monday!')\n",
    "elif today.lower() == 'saturday' or 'sunday':\n",
    "    print('it\\'s the freakin weekend baby!')\n",
    "else: \n",
    "    print('it\\'s not Monday :(')\n",
    "    "
   ]
  },
  {
   "cell_type": "code",
   "execution_count": null,
   "metadata": {},
   "outputs": [],
   "source": [
    "hrs_worked_week = input(\"How many hours did you work this week? (answer with digits): \")\n",
    "hourly_rate = input(\"How much do you get paid per hour? (answer in whole dollars only): $\")\n",
    "if int(hrs_worked_week) > 40:\n",
    "    paycheck_amt = (int(hourly_rate) * 1.5) * int(hrs_worked_week)\n",
    "else:\n",
    "    paycheck_amt = int(hourly_rate) * int(hrs_worked_week)\n",
    "print(f\"Your paycheck will be ${paycheck_amt} this week\")"
   ]
  },
  {
   "cell_type": "markdown",
   "metadata": {},
   "source": [
    "# Loop Basics\n",
    "\n",
    "## While\n",
    "\n",
    "- Create an integer variable i with a value of 5.\n",
    "- Create a while loop that runs so long as i is less than or equal to 15\n",
    "- Each loop iteration, output the current value of i, then increment i by one.\n",
    "Your output should look like this:\n",
    "\n",
    "`5\n",
    "6\n",
    "7\n",
    "8\n",
    "9\n",
    "10\n",
    "11\n",
    "12\n",
    "13\n",
    "14\n",
    "15`\n",
    "\n",
    "\n"
   ]
  },
  {
   "cell_type": "code",
   "execution_count": null,
   "metadata": {},
   "outputs": [],
   "source": [
    "i = 5\n",
    "while i <= 15: \n",
    "    print (i)\n",
    "    i += 1"
   ]
  },
  {
   "cell_type": "markdown",
   "metadata": {},
   "source": [
    "- Create a while loop that will count by 2's starting with 0 and ending at 100. Follow each number with a new line.\n",
    "- Alter your loop to count backwards by 5's from 100 to -10.\n",
    "- Create a while loop that starts at 2, and displays the number squared on each line while the number is less than 1,000,000. Output should equal:"
   ]
  },
  {
   "cell_type": "code",
   "execution_count": 3,
   "metadata": {},
   "outputs": [
    {
     "name": "stdout",
     "output_type": "stream",
     "text": [
      "2\n",
      "4\n",
      "16\n",
      "256\n",
      "65536\n"
     ]
    }
   ],
   "source": [
    "i = 2\n",
    "while i <= 1000000:\n",
    "    print(i)\n",
    "    i = i ** 2"
   ]
  },
  {
   "cell_type": "code",
   "execution_count": 5,
   "metadata": {},
   "outputs": [
    {
     "name": "stdout",
     "output_type": "stream",
     "text": [
      "100\n",
      "95\n",
      "90\n",
      "85\n",
      "80\n",
      "75\n",
      "70\n",
      "65\n",
      "60\n",
      "55\n",
      "50\n",
      "45\n",
      "40\n",
      "35\n",
      "30\n",
      "25\n",
      "20\n",
      "15\n",
      "10\n",
      "5\n"
     ]
    }
   ],
   "source": [
    "i = 100\n",
    "while i >= 5:\n",
    "    print(i)\n",
    "    i -= 5"
   ]
  },
  {
   "cell_type": "markdown",
   "metadata": {},
   "source": [
    "# For Loops\n",
    "\n",
    "Write some code that prompts the user for a number, then shows a multiplication table up through 10 for that number.\n",
    "\n",
    "For example, if the user enters 7, your program should output:"
   ]
  },
  {
   "cell_type": "code",
   "execution_count": 22,
   "metadata": {},
   "outputs": [
    {
     "name": "stdout",
     "output_type": "stream",
     "text": [
      "enter a number: 4\n",
      "4 x 1 = 4\n",
      "4 x 2 = 8\n",
      "4 x 3 = 12\n",
      "4 x 4 = 16\n",
      "4 x 5 = 20\n",
      "4 x 6 = 24\n",
      "4 x 7 = 28\n",
      "4 x 8 = 32\n",
      "4 x 9 = 36\n",
      "4 x 10 = 40\n"
     ]
    }
   ],
   "source": [
    "n = input(\"enter a number: \")\n",
    "x = int(n)\n",
    "for i in range(1,11):\n",
    "    print(x, 'x', i, '=', x*i)\n",
    "    "
   ]
  },
  {
   "cell_type": "markdown",
   "metadata": {},
   "source": [
    "ii. Create a for loop that uses print to create the output shown below."
   ]
  },
  {
   "cell_type": "code",
   "execution_count": 33,
   "metadata": {},
   "outputs": [
    {
     "name": "stdout",
     "output_type": "stream",
     "text": [
      "1\n",
      "22\n",
      "333\n",
      "4444\n",
      "55555\n",
      "666666\n",
      "7777777\n",
      "88888888\n",
      "999999999\n"
     ]
    }
   ],
   "source": [
    "for n in range (1,10):\n",
    "    for i in range (n):\n",
    "        print (n, end=\"\")\n",
    "    print ()   "
   ]
  },
  {
   "cell_type": "markdown",
   "metadata": {},
   "source": [
    "break and continue\n",
    "\n",
    "i. Prompt the user for an odd number between 1 and 50. Use a loop and a break statement to continue prompting the user if they enter invalid input. (Hint: use the isdigit method on strings to determine this). Use a loop and the continue statement to output all the odd numbers between 1 and 50, except for the number the user entered."
   ]
  },
  {
   "cell_type": "code",
   "execution_count": null,
   "metadata": {},
   "outputs": [],
   "source": [
    "skipdigit = int(input(\"Type in an odd number between 1 and 50: \"))\n",
    "while skipdigit % 2 == 0 or 0 < skipdigit > 51:\n",
    "    skipdigit = int(input(\"invalid input. Please type in an odd number between 1 and 50: \"))\n",
    "for i in range(1, 50, 2):\n",
    "    if i == skipdigit:\n",
    "        print(\"Yikes! Skipping number: \", skipdigit)\n",
    "        continue\n",
    "    else:\n",
    "        print(\"Here is an odd number: \", i)\n"
   ]
  },
  {
   "cell_type": "markdown",
   "metadata": {},
   "source": [
    "d. The input function can be used to prompt for input and use that input in your python code. Prompt the user to enter a positive number and write a loop that counts from 0 to that number. (Hints: first make sure that the value the user entered is a valid number, also note that the input function returns a string, so you'll need to convert this to a numeric type.)"
   ]
  },
  {
   "cell_type": "code",
   "execution_count": 61,
   "metadata": {},
   "outputs": [
    {
     "name": "stdout",
     "output_type": "stream",
     "text": [
      "enter a positive number: 5\n",
      "0\n",
      "1\n",
      "2\n",
      "3\n",
      "4\n",
      "5\n"
     ]
    }
   ],
   "source": [
    "number = int(input(\"enter a positive number: \"))\n",
    "if number < 0:\n",
    "    int(input(\"I said POSITIVE number: \"))\n",
    "for i in range(number + 1):\n",
    "    print(i)"
   ]
  },
  {
   "cell_type": "markdown",
   "metadata": {},
   "source": [
    "Write a program that prompts the user for a positive integer. Next write a loop that prints out the numbers from the number the user entered down to 1."
   ]
  },
  {
   "cell_type": "code",
   "execution_count": 65,
   "metadata": {},
   "outputs": [
    {
     "name": "stdout",
     "output_type": "stream",
     "text": [
      "enter a positive number: 5\n",
      "5\n",
      "4\n",
      "3\n",
      "2\n",
      "1\n"
     ]
    }
   ],
   "source": [
    "number = int(input(\"enter a positive number: \"))\n",
    "if number < 0:\n",
    "    int(input(\"I said POSITIVE number: \"))\n",
    "for i in range(number, 0, -1):\n",
    "    print (i)"
   ]
  },
  {
   "cell_type": "markdown",
   "metadata": {},
   "source": [
    "# 3. Fizzbuzz\n",
    "\n",
    "One of the most common interview questions for entry-level programmers is the FizzBuzz test. Developed by Imran Ghory, the test is designed to test basic looping and conditional logic skills.\n",
    "\n",
    "Write a program that prints the numbers from 1 to 100.\n",
    "- For multiples of three print \"Fizz\" instead of the number\n",
    "- For the multiples of five print \"Buzz\".\n",
    "- For numbers which are multiples of both three and five print \"FizzBuzz\"."
   ]
  },
  {
   "cell_type": "code",
   "execution_count": 2,
   "metadata": {},
   "outputs": [
    {
     "name": "stdout",
     "output_type": "stream",
     "text": [
      "1\n",
      "2\n",
      "Fizz\n",
      "4\n",
      "Buzz\n",
      "Fizz\n",
      "7\n",
      "8\n",
      "Fizz\n",
      "Buzz\n",
      "11\n",
      "Fizz\n",
      "13\n",
      "14\n",
      "FizzBuzz\n",
      "16\n",
      "17\n",
      "Fizz\n",
      "19\n",
      "Buzz\n",
      "Fizz\n",
      "22\n",
      "23\n",
      "Fizz\n",
      "Buzz\n",
      "26\n",
      "Fizz\n",
      "28\n",
      "29\n",
      "FizzBuzz\n",
      "31\n",
      "32\n",
      "Fizz\n",
      "34\n",
      "Buzz\n",
      "Fizz\n",
      "37\n",
      "38\n",
      "Fizz\n",
      "Buzz\n",
      "41\n",
      "Fizz\n",
      "43\n",
      "44\n",
      "FizzBuzz\n",
      "46\n",
      "47\n",
      "Fizz\n",
      "49\n",
      "Buzz\n",
      "Fizz\n",
      "52\n",
      "53\n",
      "Fizz\n",
      "Buzz\n",
      "56\n",
      "Fizz\n",
      "58\n",
      "59\n",
      "FizzBuzz\n",
      "61\n",
      "62\n",
      "Fizz\n",
      "64\n",
      "Buzz\n",
      "Fizz\n",
      "67\n",
      "68\n",
      "Fizz\n",
      "Buzz\n",
      "71\n",
      "Fizz\n",
      "73\n",
      "74\n",
      "FizzBuzz\n",
      "76\n",
      "77\n",
      "Fizz\n",
      "79\n",
      "Buzz\n",
      "Fizz\n",
      "82\n",
      "83\n",
      "Fizz\n",
      "Buzz\n",
      "86\n",
      "Fizz\n",
      "88\n",
      "89\n",
      "FizzBuzz\n",
      "91\n",
      "92\n",
      "Fizz\n",
      "94\n",
      "Buzz\n",
      "Fizz\n",
      "97\n",
      "98\n",
      "Fizz\n",
      "Buzz\n"
     ]
    }
   ],
   "source": [
    "for n in range(1, 101):\n",
    "    if n % 3 == 0 and n % 5 == 0:\n",
    "        print(\"FizzBuzz\")\n",
    "        continue\n",
    "    elif n % 3 == 0:\n",
    "        print(\"Fizz\")\n",
    "        continue\n",
    "    elif n % 5 == 0:\n",
    "        print(\"Buzz\")\n",
    "        continue\n",
    "    else:\n",
    "        print(n)\n"
   ]
  },
  {
   "cell_type": "markdown",
   "metadata": {},
   "source": [
    "# 4. Display a table of powers.\n",
    "\n",
    "- Prompt the user to enter an integer.\n",
    "- Display a table of squares and cubes from 1 to the value entered.\n",
    "- Ask if the user wants to continue.\n",
    "- Assume that the user will enter valid data.\n",
    "- Only continue if the user agrees to."
   ]
  },
  {
   "cell_type": "code",
   "execution_count": 3,
   "metadata": {},
   "outputs": [],
   "source": [
    "from tabulate import tabulate"
   ]
  },
  {
   "cell_type": "code",
   "execution_count": 66,
   "metadata": {},
   "outputs": [
    {
     "name": "stdout",
     "output_type": "stream",
     "text": [
      "Please enter an integer: 3\n",
      "1 1 1\n",
      "2 4 8\n",
      "3 9 27\n",
      "would you like to continue? y/n: yes\n",
      "4 16 64\n",
      "would you like to continue? y/n: no\n"
     ]
    }
   ],
   "source": [
    "n = int(input(\"Please enter an integer: \"))\n",
    "for i in range(1, n + 1):\n",
    "    print(i, i ** 2, i ** 3) \n",
    "cont = (input(\"would you like to continue? y/n: \"))\n",
    "while cont.lower().startswith('y'):\n",
    "    n += 1\n",
    "    print(n, n ** 2, n **3)\n",
    "    cont = (input(\"would you like to continue? y/n: \"))\n",
    "\n",
    "   "
   ]
  },
  {
   "cell_type": "code",
   "execution_count": null,
   "metadata": {},
   "outputs": [],
   "source": [
    "n = int(input(\"Please enter an integer: \"))\n",
    "big_ass_list = []\n",
    "for i in range(1, n + 1):\n",
    "    table_entries = [i, i ** 2, i ** 3]\n",
    "    print(table_entries)\n",
    "    big_ass_list.extend(table_entries)\n",
    "    \n",
    "print(big_ass_list)"
   ]
  },
  {
   "cell_type": "markdown",
   "metadata": {},
   "source": [
    "# 5 Convert given number grades into letter grades.\n",
    "\n",
    "Prompt the user for a numerical grade from 0 to 100.\n",
    "Display the corresponding letter grade.\n",
    "Prompt the user to continue.\n",
    "Assume that the user will enter valid integers for the grades.\n",
    "The application should only continue if the user agrees to.\n",
    "Grade Ranges:\n",
    "\n",
    "A : 100 - 88\n",
    "B : 87 - 80\n",
    "C : 79 - 67\n",
    "D : 66 - 60\n",
    "F : 59 - 0"
   ]
  },
  {
   "cell_type": "code",
   "execution_count": 21,
   "metadata": {},
   "outputs": [
    {
     "name": "stdout",
     "output_type": "stream",
     "text": [
      "Enter your grade (number from 0 - 100): 40\n",
      "F\n"
     ]
    }
   ],
   "source": [
    "grade = int(input(\"Enter your grade (number from 0 - 100): \"))\n",
    "if 88 <=  grade <= 100:\n",
    "    print('A')\n",
    "elif 80 <= grade <= 87:\n",
    "    print('B')\n",
    "elif 67 <= grade <= 79:\n",
    "    print('C')\n",
    "elif 60 <= grade <= 66:\n",
    "    print('D')\n",
    "elif 0 <= grade <= 59:\n",
    "    print('F')\n"
   ]
  },
  {
   "cell_type": "markdown",
   "metadata": {},
   "source": [
    "Bonus\n",
    "\n",
    "Edit your grade ranges to include pluses and minuses (ex: 99-100 = A+)."
   ]
  },
  {
   "cell_type": "code",
   "execution_count": null,
   "metadata": {},
   "outputs": [],
   "source": []
  },
  {
   "cell_type": "markdown",
   "metadata": {},
   "source": [
    "# 6. Create a list of dictionaries where each dictionary represents a book that you have read. \n",
    "Each dictionary in the list should have the keys title, author, and genre. Loop through the list and print out information about each book.\n",
    "\n",
    "Prompt the user to enter a genre, then loop through your books list and print out the titles of all the books in that genre."
   ]
  },
  {
   "cell_type": "code",
   "execution_count": 23,
   "metadata": {},
   "outputs": [],
   "source": [
    "# Dictionary\n",
    "books_ive_read = [\n",
    "    {\n",
    "        'title': 'Harry Potter and the Sorcerer\\'s Stone',\n",
    "        'author': 'J. K. Rowling',\n",
    "        'genre': ['fantasy', 'mystery', 'young adult']\n",
    "    },\n",
    "    {\n",
    "        'title': 'Lord of the Rings: Fellowship of the Ring',\n",
    "        'author': 'J. R. R. Tolkein',\n",
    "        'genre': ['fantasy', 'adventure']\n",
    "    },\n",
    "    {\n",
    "        'title': 'A Darker Shade of Magic',\n",
    "        'author': 'V. E. Schwab',\n",
    "        'genre': ['adult fantasy', 'magic']\n",
    "    },\n",
    "    {\n",
    "        'title': 'Percy Jackson and the Lightning Thief',\n",
    "        'author': 'Rick Riordan',\n",
    "        'genre': ['young adult', 'adventure', 'greek mythology']\n",
    "    },\n",
    "    {\n",
    "        'title': 'Twilight',\n",
    "        'author': 'Stephanie Meyer',\n",
    "        'genre': ['romance', 'vampire']\n",
    "    },\n",
    "    {\n",
    "        'title': 'The Hunger Games',\n",
    "        'author': 'Suzanne Collins',\n",
    "        'genre': ['dystopian fiction', 'young adult', 'adventure']\n",
    "    }   \n",
    "]"
   ]
  },
  {
   "cell_type": "code",
   "execution_count": 53,
   "metadata": {},
   "outputs": [
    {
     "name": "stdout",
     "output_type": "stream",
     "text": [
      "[{'title': \"Harry Potter and the Sorcerer's Stone\", 'author': 'J. K. Rowling', 'genre': ['fantasy', 'mystery', 'young adult']}, {'title': 'Lord of the Rings: Fellowship of the Ring', 'author': 'J. R. R. Tolkein', 'genre': ['fantasy', 'adventure']}, {'title': 'A Darker Shade of Magic', 'author': 'V. E. Schwab', 'genre': ['adult fantasy', 'magic']}, {'title': 'Percy Jackson and the Lightning Thief', 'author': 'Rick Riordan', 'genre': ['young adult', 'adventure', 'greek mythology']}, {'title': 'Twilight', 'author': 'Stephanie Meyer', 'genre': ['romance', 'vampire']}, {'title': 'The Hunger Games', 'author': 'Suzanne Collins', 'genre': ['dystopian fiction', 'young adult', 'adventure']}]\n"
     ]
    }
   ],
   "source": [
    "book_info = [book for book in books_ive_read]\n",
    "print(book_info)"
   ]
  },
  {
   "cell_type": "code",
   "execution_count": 62,
   "metadata": {},
   "outputs": [
    {
     "name": "stdout",
     "output_type": "stream",
     "text": [
      "What genre are you looking for: fun\n",
      "no books matching fun genre in database\n"
     ]
    }
   ],
   "source": [
    "genre_search = input(\"What genre are you looking for: \")\n",
    "genre_search = genre_search.lower()\n",
    "count = 0\n",
    "for book in books_ive_read:\n",
    "    if genre_search in (book['genre']):\n",
    "        print(book['title'])\n",
    "        count += 1 \n",
    "        continue\n",
    "if count == 0:\n",
    "    print(f\"no books matching {genre_search} genre in database\")\n",
    "    "
   ]
  }
 ],
 "metadata": {
  "kernelspec": {
   "display_name": "Python 3",
   "language": "python",
   "name": "python3"
  },
  "language_info": {
   "codemirror_mode": {
    "name": "ipython",
    "version": 3
   },
   "file_extension": ".py",
   "mimetype": "text/x-python",
   "name": "python",
   "nbconvert_exporter": "python",
   "pygments_lexer": "ipython3",
   "version": "3.8.5"
  }
 },
 "nbformat": 4,
 "nbformat_minor": 4
}
